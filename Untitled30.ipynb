{
  "nbformat": 4,
  "nbformat_minor": 0,
  "metadata": {
    "colab": {
      "name": "Untitled30.ipynb",
      "provenance": [],
      "collapsed_sections": [],
      "authorship_tag": "ABX9TyNi2yIT4v2faqPLRqu5POMe",
      "include_colab_link": true
    },
    "kernelspec": {
      "name": "python3",
      "display_name": "Python 3"
    }
  },
  "cells": [
    {
      "cell_type": "markdown",
      "metadata": {
        "id": "view-in-github",
        "colab_type": "text"
      },
      "source": [
        "<a href=\"https://colab.research.google.com/github/Harshitha412/27-6-2020-assignment/blob/master/Untitled30.ipynb\" target=\"_parent\"><img src=\"https://colab.research.google.com/assets/colab-badge.svg\" alt=\"Open In Colab\"/></a>"
      ]
    },
    {
      "cell_type": "code",
      "metadata": {
        "id": "nWtFEXLAnxQs",
        "colab_type": "code",
        "colab": {
          "base_uri": "https://localhost:8080/",
          "height": 34
        },
        "outputId": "6d35e114-f306-465d-ab90-d31fa8760ace"
      },
      "source": [
        "#python program to sum all the items in a list\n",
        "def sum_list(items):\n",
        "  sum_numbers=0\n",
        "  for x in items:\n",
        "    sum_numbers +=x\n",
        "  return sum_numbers\n",
        "print(sum_list([3,7,-9,6]))"
      ],
      "execution_count": 2,
      "outputs": [
        {
          "output_type": "stream",
          "text": [
            "7\n"
          ],
          "name": "stdout"
        }
      ]
    },
    {
      "cell_type": "code",
      "metadata": {
        "id": "IFcJsMMnppJF",
        "colab_type": "code",
        "colab": {
          "base_uri": "https://localhost:8080/",
          "height": 34
        },
        "outputId": "46bebbfb-af07-4b46-cf28-94cfb02acfcf"
      },
      "source": [
        "#python program to multiplies all the items in a list\n",
        "def multiply_list(items):\n",
        "  tot = 1\n",
        "  for x in items:\n",
        "    tot *=x\n",
        "  return tot\n",
        "print(multiply_list([4,8,-5,4]))\n"
      ],
      "execution_count": 3,
      "outputs": [
        {
          "output_type": "stream",
          "text": [
            "-640\n"
          ],
          "name": "stdout"
        }
      ]
    },
    {
      "cell_type": "code",
      "metadata": {
        "id": "T-OlXLbuqgZr",
        "colab_type": "code",
        "colab": {
          "base_uri": "https://localhost:8080/",
          "height": 151
        },
        "outputId": "189c42cd-91e8-4f4b-af1c-cd36e7b202f7"
      },
      "source": [
        "#python program to get the largest and smallest number from a list\n",
        "numlist = []\n",
        "number = int(input(\"please enter the total number of list elements: \"))\n",
        "for i in range(1,number+1):\n",
        "     value = int(input(\"enter the value of %d element : \"%i))\n",
        "     numlist.append(value)\n",
        "numlist.sort()\n",
        "print(\"the smallest element in the list is :\",numlist[0])\n",
        "print(\"the largest element in this list is :\",numlist[number -1])"
      ],
      "execution_count": 7,
      "outputs": [
        {
          "output_type": "stream",
          "text": [
            "please enter the total number of list elements: 5\n",
            "enter the value of 1 element : 76\n",
            "enter the value of 2 element : 100\n",
            "enter the value of 3 element : 23\n",
            "enter the value of 4 element : 70\n",
            "enter the value of 5 element : 12\n",
            "the smallest element in the list is : 12\n",
            "the largest element in this list is : 100\n"
          ],
          "name": "stdout"
        }
      ]
    },
    {
      "cell_type": "code",
      "metadata": {
        "id": "aQI1xVvCtawT",
        "colab_type": "code",
        "colab": {
          "base_uri": "https://localhost:8080/",
          "height": 34
        },
        "outputId": "0236e9e4-3514-4855-f312-dd6e2c540264"
      },
      "source": [
        "#python program to remove duplicates from a list\n",
        "a=[10,20,30,20,10,50,60,40,80,50,40]\n",
        "dup_items = set()\n",
        "uniq_items = []\n",
        "for x in a :\n",
        "  if x not in dup_items:\n",
        "    uniq_items.append(x)\n",
        "    dup_items.add(x)\n",
        "print(dup_items)"
      ],
      "execution_count": 8,
      "outputs": [
        {
          "output_type": "stream",
          "text": [
            "{40, 10, 80, 50, 20, 60, 30}\n"
          ],
          "name": "stdout"
        }
      ]
    },
    {
      "cell_type": "code",
      "metadata": {
        "id": "ZzJ19I4zujdu",
        "colab_type": "code",
        "colab": {
          "base_uri": "https://localhost:8080/",
          "height": 34
        },
        "outputId": "b4f65157-6695-4db9-af05-849fb6b86530"
      },
      "source": [
        "#python program to check the list is empty or not\n",
        "l = []\n",
        "if not l:\n",
        "  print(\"list is empty\")"
      ],
      "execution_count": 9,
      "outputs": [
        {
          "output_type": "stream",
          "text": [
            "list is empty\n"
          ],
          "name": "stdout"
        }
      ]
    }
  ]
}